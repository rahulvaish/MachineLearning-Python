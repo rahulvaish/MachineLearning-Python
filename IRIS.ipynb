{
 "cells": [
  {
   "cell_type": "code",
   "execution_count": 1,
   "metadata": {},
   "outputs": [],
   "source": [
    "import numpy as np\n",
    "import pandas as pd\n",
    "from sklearn.model_selection import train_test_split\n",
    "from sklearn.model_selection import cross_val_score\n",
    "from sklearn.naive_bayes import GaussianNB\n",
    "from sklearn.linear_model import LogisticRegression\n",
    "from sklearn.ensemble import RandomForestClassifier\n",
    "from sklearn.metrics import accuracy_score"
   ]
  },
  {
   "cell_type": "code",
   "execution_count": 2,
   "metadata": {},
   "outputs": [],
   "source": [
    "irisCompleteData= pd.read_csv(\"C:\\\\Users\\\\Lenovo\\\\Desktop\\\\IPY\\\\MachineLearning-Python-IRIS\\\\Data\\\\iris.csv\")"
   ]
  },
  {
   "cell_type": "code",
   "execution_count": 3,
   "metadata": {},
   "outputs": [
    {
     "data": {
      "text/html": [
       "<div>\n",
       "<style scoped>\n",
       "    .dataframe tbody tr th:only-of-type {\n",
       "        vertical-align: middle;\n",
       "    }\n",
       "\n",
       "    .dataframe tbody tr th {\n",
       "        vertical-align: top;\n",
       "    }\n",
       "\n",
       "    .dataframe thead th {\n",
       "        text-align: right;\n",
       "    }\n",
       "</style>\n",
       "<table border=\"1\" class=\"dataframe\">\n",
       "  <thead>\n",
       "    <tr style=\"text-align: right;\">\n",
       "      <th></th>\n",
       "      <th>sepallength</th>\n",
       "      <th>sepalwidth</th>\n",
       "      <th>petallength</th>\n",
       "      <th>petalwidth</th>\n",
       "      <th>class</th>\n",
       "    </tr>\n",
       "  </thead>\n",
       "  <tbody>\n",
       "    <tr>\n",
       "      <th>0</th>\n",
       "      <td>4.7</td>\n",
       "      <td>3.2</td>\n",
       "      <td>1.3</td>\n",
       "      <td>0.2</td>\n",
       "      <td>1</td>\n",
       "    </tr>\n",
       "    <tr>\n",
       "      <th>1</th>\n",
       "      <td>4.6</td>\n",
       "      <td>3.1</td>\n",
       "      <td>1.5</td>\n",
       "      <td>0.2</td>\n",
       "      <td>1</td>\n",
       "    </tr>\n",
       "    <tr>\n",
       "      <th>2</th>\n",
       "      <td>5.0</td>\n",
       "      <td>3.6</td>\n",
       "      <td>1.4</td>\n",
       "      <td>0.2</td>\n",
       "      <td>1</td>\n",
       "    </tr>\n",
       "    <tr>\n",
       "      <th>3</th>\n",
       "      <td>5.4</td>\n",
       "      <td>3.9</td>\n",
       "      <td>1.7</td>\n",
       "      <td>0.4</td>\n",
       "      <td>1</td>\n",
       "    </tr>\n",
       "    <tr>\n",
       "      <th>4</th>\n",
       "      <td>4.6</td>\n",
       "      <td>3.4</td>\n",
       "      <td>1.4</td>\n",
       "      <td>0.3</td>\n",
       "      <td>1</td>\n",
       "    </tr>\n",
       "  </tbody>\n",
       "</table>\n",
       "</div>"
      ],
      "text/plain": [
       "   sepallength  sepalwidth  petallength  petalwidth  class\n",
       "0          4.7         3.2          1.3         0.2      1\n",
       "1          4.6         3.1          1.5         0.2      1\n",
       "2          5.0         3.6          1.4         0.2      1\n",
       "3          5.4         3.9          1.7         0.4      1\n",
       "4          4.6         3.4          1.4         0.3      1"
      ]
     },
     "execution_count": 3,
     "metadata": {},
     "output_type": "execute_result"
    }
   ],
   "source": [
    "irisCompleteData.head()"
   ]
  },
  {
   "cell_type": "code",
   "execution_count": 4,
   "metadata": {},
   "outputs": [
    {
     "name": "stdout",
     "output_type": "stream",
     "text": [
      "(148, 5)\n"
     ]
    }
   ],
   "source": [
    "print(irisCompleteData.shape)"
   ]
  },
  {
   "cell_type": "code",
   "execution_count": 5,
   "metadata": {},
   "outputs": [],
   "source": [
    "# Total number of recods = 148\n",
    "# Number of Records chosen for Building Model = 112\n",
    "# Number of Records chosen for Testing Model = 28 (20% of 140 = 28)\n",
    "# Number of Records(extra) chosen for Testing Model = 8"
   ]
  },
  {
   "cell_type": "markdown",
   "metadata": {},
   "source": [
    "![image](https://user-images.githubusercontent.com/689226/79633923-20d9ce80-8185-11ea-98d3-35f348a5a23f.png)\n"
   ]
  },
  {
   "cell_type": "code",
   "execution_count": 6,
   "metadata": {},
   "outputs": [],
   "source": [
    "analysisDataframe = irisCompleteData.head(140)"
   ]
  },
  {
   "cell_type": "code",
   "execution_count": 7,
   "metadata": {},
   "outputs": [],
   "source": [
    "untouchedDataframe = irisCompleteData.tail(8)"
   ]
  },
  {
   "cell_type": "code",
   "execution_count": 8,
   "metadata": {},
   "outputs": [
    {
     "name": "stdout",
     "output_type": "stream",
     "text": [
      "(140, 5)\n",
      "(8, 5)\n"
     ]
    }
   ],
   "source": [
    "print(analysisDataframe.shape)\n",
    "print(untouchedDataframe.shape)"
   ]
  },
  {
   "cell_type": "code",
   "execution_count": 9,
   "metadata": {},
   "outputs": [],
   "source": [
    "selectdColumns = [\"sepallength\",\"sepalwidth\",\"petallength\",\"petalwidth\"]\n",
    "targetColumn = ['class']"
   ]
  },
  {
   "cell_type": "markdown",
   "metadata": {},
   "source": [
    "<p>\n",
    "    <b>Applying ML model:</b>\n",
    "</p>    "
   ]
  },
  {
   "cell_type": "code",
   "execution_count": 10,
   "metadata": {},
   "outputs": [],
   "source": [
    "model = GaussianNB()"
   ]
  },
  {
   "cell_type": "code",
   "execution_count": 11,
   "metadata": {},
   "outputs": [
    {
     "name": "stdout",
     "output_type": "stream",
     "text": [
      "all_X ---> (140, 4)\n",
      "all_Y ---> (140, 1)\n"
     ]
    }
   ],
   "source": [
    "all_X = analysisDataframe[selectdColumns]\n",
    "all_Y = analysisDataframe[targetColumn]\n",
    "print(\"all_X --->\", all_X.shape)\n",
    "print(\"all_Y --->\", all_Y.shape)"
   ]
  },
  {
   "cell_type": "code",
   "execution_count": 12,
   "metadata": {},
   "outputs": [],
   "source": [
    "train_X, test_X, train_Y, test_Y = train_test_split(\n",
    "    all_X, all_Y, random_state=0, test_size=0.20)"
   ]
  },
  {
   "cell_type": "code",
   "execution_count": 13,
   "metadata": {},
   "outputs": [
    {
     "name": "stdout",
     "output_type": "stream",
     "text": [
      "train_X ---> (112, 4)\n",
      "train_Y ---> (112, 1)\n",
      "test_X ---> (28, 4)\n",
      "test_Y ---> (28, 1)\n"
     ]
    }
   ],
   "source": [
    "print(\"train_X --->\" , train_X.shape)\n",
    "print(\"train_Y --->\", train_Y.shape)\n",
    "print(\"test_X --->\" , test_X.shape)\n",
    "print(\"test_Y --->\", test_Y.shape)"
   ]
  },
  {
   "cell_type": "code",
   "execution_count": 14,
   "metadata": {},
   "outputs": [],
   "source": [
    "# These test_X-test_Y rows are random rows (not consecutive). The sum of all test_X-test_Y rows here = 28 (as 20% of 140 = 28)"
   ]
  },
  {
   "cell_type": "markdown",
   "metadata": {},
   "source": [
    "![image](https://user-images.githubusercontent.com/689226/79640727-bc346900-81b0-11ea-9e86-79e3ef640bdc.png)"
   ]
  },
  {
   "cell_type": "code",
   "execution_count": 15,
   "metadata": {},
   "outputs": [
    {
     "name": "stdout",
     "output_type": "stream",
     "text": [
      "     sepallength  sepalwidth  petallength  petalwidth\n",
      "45           4.6         3.2          1.4         0.2\n",
      "59           5.9         3.0          4.2         1.5\n",
      "7            4.9         3.1          1.5         0.1\n",
      "50           6.9         3.1          4.9         1.5\n",
      "92           5.6         2.7          4.2         1.3\n",
      "27           4.7         3.2          1.6         0.2\n",
      "131          6.3         2.8          5.1         1.5\n",
      "137          6.9         3.1          5.4         2.1\n",
      "122          6.7         3.3          5.7         2.1\n",
      "8            5.4         3.7          1.5         0.2\n",
      "111          5.7         2.5          5.0         2.0\n",
      "16           5.7         3.8          1.7         0.3\n",
      "63           6.7         3.1          4.4         1.4\n",
      "76           6.0         2.9          4.5         1.5\n",
      "123          7.2         3.2          6.0         1.8\n",
      "97           5.7         2.8          4.1         1.3\n",
      "104          4.9         2.5          4.5         1.7\n",
      "110          6.8         3.0          5.5         2.1\n",
      "33           5.0         3.2          1.2         0.2\n",
      "91           5.0         2.3          3.3         1.0\n",
      "90           5.8         2.6          4.0         1.2\n",
      "22           4.8         3.4          1.9         0.2\n",
      "102          6.5         3.0          5.8         2.2\n",
      "24           5.0         3.4          1.6         0.4\n",
      "2            5.0         3.6          1.4         0.2\n",
      "51           5.5         2.3          4.0         1.3\n",
      "26           5.2         3.4          1.4         0.2\n",
      "71           6.1         2.8          4.7         1.2\n",
      "Length of test_X :  28\n"
     ]
    }
   ],
   "source": [
    "# Example of above diagram:\n",
    "print(test_X )\n",
    "print(\"Length of test_X : \", len(test_X))"
   ]
  },
  {
   "cell_type": "markdown",
   "metadata": {},
   "source": [
    "<p>\n",
    "    <b> Computing Prediction | Comparing <i>Predicted</i> values with <i>test_Y</i> values. </b>\n",
    "</p>    "
   ]
  },
  {
   "cell_type": "code",
   "execution_count": 16,
   "metadata": {},
   "outputs": [
    {
     "name": "stdout",
     "output_type": "stream",
     "text": [
      "Predictions : [1 2 1 2 2 1 2 3 3 1 3 1 2 2 3 2 2 3 1 2 2 1 3 1 1 2 1 2]\n",
      "Actual test_Y:  [1, 2, 1, 2, 2, 1, 3, 3, 3, 1, 3, 1, 2, 2, 3, 2, 3, 3, 1, 2, 2, 1, 3, 1, 1, 2, 1, 2]\n",
      "Length of testY:  28 = Length of Predictions:  28\n"
     ]
    }
   ],
   "source": [
    "model.fit(train_X, train_Y.values.ravel())\n",
    "predictions = model.predict(test_X)\n",
    "print(\"Predictions :\",predictions)\n",
    "\n",
    "testY =[]\n",
    "for i in test_Y['class']:\n",
    "    testY.append(i)\n",
    "print(\"Actual test_Y: \",testY)\n",
    "print(\"Length of testY: \",len(test_Y),\"=\",\"Length of Predictions: \", len(predictions))"
   ]
  },
  {
   "cell_type": "code",
   "execution_count": 17,
   "metadata": {},
   "outputs": [
    {
     "name": "stdout",
     "output_type": "stream",
     "text": [
      "0.9285714285714286\n"
     ]
    }
   ],
   "source": [
    "accuracy = accuracy_score(test_Y, predictions)\n",
    "print(accuracy)"
   ]
  },
  {
   "cell_type": "markdown",
   "metadata": {},
   "source": [
    "<p>\n",
    "    <b> Computing Cross Validation </b> <br>\n",
    "   As mentioned above that test_X-test_Y rows got randomly picked (Actual Representation). The sum of rows was n% of the total analysis data. Example: We mentioned 20% in train_test_split() which resulted as (20% of 140 =28) random rows. <br><br>\n",
    "\n",
    "In K-Fold Cross Validation, we define K as any number which divides the total analysis data into equal parts. Example: If k=10, and total number of rows = 140, then, test_X-test_Y row count will be = 14 rows. Now computation happens between the first 14 rows and rest 126 rows to calculate the accuracy score. The process repeats 10 times and at the end mean accuracy becomes the model's accuracy.  \n",
    "</p>"
   ]
  },
  {
   "cell_type": "markdown",
   "metadata": {},
   "source": [
    "\n",
    "![image](https://user-images.githubusercontent.com/689226/79639250-390f1500-81a8-11ea-84ea-5511569f6b24.png)"
   ]
  },
  {
   "cell_type": "code",
   "execution_count": 18,
   "metadata": {},
   "outputs": [
    {
     "name": "stdout",
     "output_type": "stream",
     "text": [
      "[0.85714286 0.92307692 0.92857143 0.92857143 0.93333333 0.93333333\n",
      " 1.         1.         1.         1.        ]\n",
      "0.9504029304029304\n"
     ]
    }
   ],
   "source": [
    "# The model here has been trained with one trial of CV. Now trying with 10 more random trials.\n",
    "scores = cross_val_score(model, all_X, all_Y.values.ravel(), cv=10)\n",
    "scores.sort()\n",
    "accuracy = scores.mean()\n",
    "\n",
    "print(scores)\n",
    "print(accuracy)"
   ]
  },
  {
   "cell_type": "markdown",
   "metadata": {},
   "source": [
    "<hr>\n",
    "<p>\n",
    "    <b>Now picking untouchedDataframe!</b>\n",
    "</p>    "
   ]
  },
  {
   "cell_type": "code",
   "execution_count": 19,
   "metadata": {},
   "outputs": [
    {
     "name": "stdout",
     "output_type": "stream",
     "text": [
      "Predictions : [3 3 3 3 3 3 3 3]\n"
     ]
    }
   ],
   "source": [
    "predictions = model.predict(untouchedDataframe[selectdColumns])\n",
    "print(\"Predictions :\",predictions)"
   ]
  },
  {
   "cell_type": "code",
   "execution_count": 20,
   "metadata": {},
   "outputs": [
    {
     "name": "stdout",
     "output_type": "stream",
     "text": [
      "Actual untouchedDataframe Y:  140    3\n",
      "141    3\n",
      "142    3\n",
      "143    3\n",
      "144    3\n",
      "145    3\n",
      "146    3\n",
      "147    3\n",
      "Name: class, dtype: int64\n"
     ]
    }
   ],
   "source": [
    "untouchedDataframeY =[]\n",
    "for i in untouchedDataframe['class']:\n",
    "    untouchedDataframeY.append(i)\n",
    "print(\"Actual untouchedDataframe Y: \",untouchedDataframe['class'])\n"
   ]
  },
  {
   "cell_type": "code",
   "execution_count": null,
   "metadata": {},
   "outputs": [],
   "source": []
  },
  {
   "cell_type": "code",
   "execution_count": null,
   "metadata": {},
   "outputs": [],
   "source": []
  },
  {
   "cell_type": "code",
   "execution_count": null,
   "metadata": {},
   "outputs": [],
   "source": []
  }
 ],
 "metadata": {
  "kernelspec": {
   "display_name": "Python 3",
   "language": "python",
   "name": "python3"
  },
  "language_info": {
   "codemirror_mode": {
    "name": "ipython",
    "version": 3
   },
   "file_extension": ".py",
   "mimetype": "text/x-python",
   "name": "python",
   "nbconvert_exporter": "python",
   "pygments_lexer": "ipython3",
   "version": "3.6.4"
  }
 },
 "nbformat": 4,
 "nbformat_minor": 2
}
